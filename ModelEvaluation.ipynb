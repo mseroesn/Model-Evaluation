{
  "cells": [
    {
      "cell_type": "markdown",
      "metadata": {
        "id": "Cd90vgFeZyVZ"
      },
      "source": [
        "MODEL EVALUATION"
      ]
    },
    {
      "cell_type": "code",
      "execution_count": null,
      "metadata": {
        "id": "EOckETicBeaj"
      },
      "outputs": [],
      "source": [
        "import numpy as np\n",
        "import pandas as pd\n",
        "import matplotlib.pyplot as plt\n",
        "from sklearn.metrics import accuracy_score\n",
        "from sklearn.model_selection import train_test_split\n",
        "from sklearn.model_selection import learning_curve\n",
        "from sklearn.neural_network import MLPClassifier\n",
        "from sklearn.svm import SVC"
      ]
    },
    {
      "cell_type": "code",
      "execution_count": null,
      "metadata": {
        "colab": {
          "base_uri": "https://localhost:8080/"
        },
        "id": "L3OSiC4BVp89",
        "outputId": "de22b508-8159-4115-c2ac-73b216b13d50"
      },
      "outputs": [
        {
          "name": "stdout",
          "output_type": "stream",
          "text": [
            "(569, 32)\n"
          ]
        }
      ],
      "source": [
        "data = pd.read_csv('https://archive.ics.uci.edu/ml/machine-learning-databases/breast-cancer-wisconsin/wdbc.data', header=None)\n",
        "print(data.shape)"
      ]
    },
    {
      "cell_type": "code",
      "execution_count": null,
      "metadata": {
        "colab": {
          "base_uri": "https://localhost:8080/",
          "height": 419
        },
        "id": "5iQQwUGrVyC3",
        "outputId": "d4436628-1778-475b-96ba-d233cabf51fe"
      },
      "outputs": [
        {
          "data": {
            "text/html": [
              "\n",
              "  <div id=\"df-9cc30626-2603-4e17-9553-e46e39fb5e5e\">\n",
              "    <div class=\"colab-df-container\">\n",
              "      <div>\n",
              "<style scoped>\n",
              "    .dataframe tbody tr th:only-of-type {\n",
              "        vertical-align: middle;\n",
              "    }\n",
              "\n",
              "    .dataframe tbody tr th {\n",
              "        vertical-align: top;\n",
              "    }\n",
              "\n",
              "    .dataframe thead th {\n",
              "        text-align: right;\n",
              "    }\n",
              "</style>\n",
              "<table border=\"1\" class=\"dataframe\">\n",
              "  <thead>\n",
              "    <tr style=\"text-align: right;\">\n",
              "      <th></th>\n",
              "      <th>1</th>\n",
              "      <th>2</th>\n",
              "      <th>3</th>\n",
              "      <th>4</th>\n",
              "      <th>5</th>\n",
              "      <th>6</th>\n",
              "      <th>7</th>\n",
              "      <th>8</th>\n",
              "      <th>9</th>\n",
              "      <th>10</th>\n",
              "      <th>...</th>\n",
              "      <th>22</th>\n",
              "      <th>23</th>\n",
              "      <th>24</th>\n",
              "      <th>25</th>\n",
              "      <th>26</th>\n",
              "      <th>27</th>\n",
              "      <th>28</th>\n",
              "      <th>29</th>\n",
              "      <th>30</th>\n",
              "      <th>31</th>\n",
              "    </tr>\n",
              "  </thead>\n",
              "  <tbody>\n",
              "    <tr>\n",
              "      <th>0</th>\n",
              "      <td>M</td>\n",
              "      <td>17.99</td>\n",
              "      <td>10.38</td>\n",
              "      <td>122.80</td>\n",
              "      <td>1001.0</td>\n",
              "      <td>0.11840</td>\n",
              "      <td>0.27760</td>\n",
              "      <td>0.30010</td>\n",
              "      <td>0.14710</td>\n",
              "      <td>0.2419</td>\n",
              "      <td>...</td>\n",
              "      <td>25.380</td>\n",
              "      <td>17.33</td>\n",
              "      <td>184.60</td>\n",
              "      <td>2019.0</td>\n",
              "      <td>0.16220</td>\n",
              "      <td>0.66560</td>\n",
              "      <td>0.7119</td>\n",
              "      <td>0.2654</td>\n",
              "      <td>0.4601</td>\n",
              "      <td>0.11890</td>\n",
              "    </tr>\n",
              "    <tr>\n",
              "      <th>1</th>\n",
              "      <td>M</td>\n",
              "      <td>20.57</td>\n",
              "      <td>17.77</td>\n",
              "      <td>132.90</td>\n",
              "      <td>1326.0</td>\n",
              "      <td>0.08474</td>\n",
              "      <td>0.07864</td>\n",
              "      <td>0.08690</td>\n",
              "      <td>0.07017</td>\n",
              "      <td>0.1812</td>\n",
              "      <td>...</td>\n",
              "      <td>24.990</td>\n",
              "      <td>23.41</td>\n",
              "      <td>158.80</td>\n",
              "      <td>1956.0</td>\n",
              "      <td>0.12380</td>\n",
              "      <td>0.18660</td>\n",
              "      <td>0.2416</td>\n",
              "      <td>0.1860</td>\n",
              "      <td>0.2750</td>\n",
              "      <td>0.08902</td>\n",
              "    </tr>\n",
              "    <tr>\n",
              "      <th>2</th>\n",
              "      <td>M</td>\n",
              "      <td>19.69</td>\n",
              "      <td>21.25</td>\n",
              "      <td>130.00</td>\n",
              "      <td>1203.0</td>\n",
              "      <td>0.10960</td>\n",
              "      <td>0.15990</td>\n",
              "      <td>0.19740</td>\n",
              "      <td>0.12790</td>\n",
              "      <td>0.2069</td>\n",
              "      <td>...</td>\n",
              "      <td>23.570</td>\n",
              "      <td>25.53</td>\n",
              "      <td>152.50</td>\n",
              "      <td>1709.0</td>\n",
              "      <td>0.14440</td>\n",
              "      <td>0.42450</td>\n",
              "      <td>0.4504</td>\n",
              "      <td>0.2430</td>\n",
              "      <td>0.3613</td>\n",
              "      <td>0.08758</td>\n",
              "    </tr>\n",
              "    <tr>\n",
              "      <th>3</th>\n",
              "      <td>M</td>\n",
              "      <td>11.42</td>\n",
              "      <td>20.38</td>\n",
              "      <td>77.58</td>\n",
              "      <td>386.1</td>\n",
              "      <td>0.14250</td>\n",
              "      <td>0.28390</td>\n",
              "      <td>0.24140</td>\n",
              "      <td>0.10520</td>\n",
              "      <td>0.2597</td>\n",
              "      <td>...</td>\n",
              "      <td>14.910</td>\n",
              "      <td>26.50</td>\n",
              "      <td>98.87</td>\n",
              "      <td>567.7</td>\n",
              "      <td>0.20980</td>\n",
              "      <td>0.86630</td>\n",
              "      <td>0.6869</td>\n",
              "      <td>0.2575</td>\n",
              "      <td>0.6638</td>\n",
              "      <td>0.17300</td>\n",
              "    </tr>\n",
              "    <tr>\n",
              "      <th>4</th>\n",
              "      <td>M</td>\n",
              "      <td>20.29</td>\n",
              "      <td>14.34</td>\n",
              "      <td>135.10</td>\n",
              "      <td>1297.0</td>\n",
              "      <td>0.10030</td>\n",
              "      <td>0.13280</td>\n",
              "      <td>0.19800</td>\n",
              "      <td>0.10430</td>\n",
              "      <td>0.1809</td>\n",
              "      <td>...</td>\n",
              "      <td>22.540</td>\n",
              "      <td>16.67</td>\n",
              "      <td>152.20</td>\n",
              "      <td>1575.0</td>\n",
              "      <td>0.13740</td>\n",
              "      <td>0.20500</td>\n",
              "      <td>0.4000</td>\n",
              "      <td>0.1625</td>\n",
              "      <td>0.2364</td>\n",
              "      <td>0.07678</td>\n",
              "    </tr>\n",
              "    <tr>\n",
              "      <th>...</th>\n",
              "      <td>...</td>\n",
              "      <td>...</td>\n",
              "      <td>...</td>\n",
              "      <td>...</td>\n",
              "      <td>...</td>\n",
              "      <td>...</td>\n",
              "      <td>...</td>\n",
              "      <td>...</td>\n",
              "      <td>...</td>\n",
              "      <td>...</td>\n",
              "      <td>...</td>\n",
              "      <td>...</td>\n",
              "      <td>...</td>\n",
              "      <td>...</td>\n",
              "      <td>...</td>\n",
              "      <td>...</td>\n",
              "      <td>...</td>\n",
              "      <td>...</td>\n",
              "      <td>...</td>\n",
              "      <td>...</td>\n",
              "      <td>...</td>\n",
              "    </tr>\n",
              "    <tr>\n",
              "      <th>564</th>\n",
              "      <td>M</td>\n",
              "      <td>21.56</td>\n",
              "      <td>22.39</td>\n",
              "      <td>142.00</td>\n",
              "      <td>1479.0</td>\n",
              "      <td>0.11100</td>\n",
              "      <td>0.11590</td>\n",
              "      <td>0.24390</td>\n",
              "      <td>0.13890</td>\n",
              "      <td>0.1726</td>\n",
              "      <td>...</td>\n",
              "      <td>25.450</td>\n",
              "      <td>26.40</td>\n",
              "      <td>166.10</td>\n",
              "      <td>2027.0</td>\n",
              "      <td>0.14100</td>\n",
              "      <td>0.21130</td>\n",
              "      <td>0.4107</td>\n",
              "      <td>0.2216</td>\n",
              "      <td>0.2060</td>\n",
              "      <td>0.07115</td>\n",
              "    </tr>\n",
              "    <tr>\n",
              "      <th>565</th>\n",
              "      <td>M</td>\n",
              "      <td>20.13</td>\n",
              "      <td>28.25</td>\n",
              "      <td>131.20</td>\n",
              "      <td>1261.0</td>\n",
              "      <td>0.09780</td>\n",
              "      <td>0.10340</td>\n",
              "      <td>0.14400</td>\n",
              "      <td>0.09791</td>\n",
              "      <td>0.1752</td>\n",
              "      <td>...</td>\n",
              "      <td>23.690</td>\n",
              "      <td>38.25</td>\n",
              "      <td>155.00</td>\n",
              "      <td>1731.0</td>\n",
              "      <td>0.11660</td>\n",
              "      <td>0.19220</td>\n",
              "      <td>0.3215</td>\n",
              "      <td>0.1628</td>\n",
              "      <td>0.2572</td>\n",
              "      <td>0.06637</td>\n",
              "    </tr>\n",
              "    <tr>\n",
              "      <th>566</th>\n",
              "      <td>M</td>\n",
              "      <td>16.60</td>\n",
              "      <td>28.08</td>\n",
              "      <td>108.30</td>\n",
              "      <td>858.1</td>\n",
              "      <td>0.08455</td>\n",
              "      <td>0.10230</td>\n",
              "      <td>0.09251</td>\n",
              "      <td>0.05302</td>\n",
              "      <td>0.1590</td>\n",
              "      <td>...</td>\n",
              "      <td>18.980</td>\n",
              "      <td>34.12</td>\n",
              "      <td>126.70</td>\n",
              "      <td>1124.0</td>\n",
              "      <td>0.11390</td>\n",
              "      <td>0.30940</td>\n",
              "      <td>0.3403</td>\n",
              "      <td>0.1418</td>\n",
              "      <td>0.2218</td>\n",
              "      <td>0.07820</td>\n",
              "    </tr>\n",
              "    <tr>\n",
              "      <th>567</th>\n",
              "      <td>M</td>\n",
              "      <td>20.60</td>\n",
              "      <td>29.33</td>\n",
              "      <td>140.10</td>\n",
              "      <td>1265.0</td>\n",
              "      <td>0.11780</td>\n",
              "      <td>0.27700</td>\n",
              "      <td>0.35140</td>\n",
              "      <td>0.15200</td>\n",
              "      <td>0.2397</td>\n",
              "      <td>...</td>\n",
              "      <td>25.740</td>\n",
              "      <td>39.42</td>\n",
              "      <td>184.60</td>\n",
              "      <td>1821.0</td>\n",
              "      <td>0.16500</td>\n",
              "      <td>0.86810</td>\n",
              "      <td>0.9387</td>\n",
              "      <td>0.2650</td>\n",
              "      <td>0.4087</td>\n",
              "      <td>0.12400</td>\n",
              "    </tr>\n",
              "    <tr>\n",
              "      <th>568</th>\n",
              "      <td>B</td>\n",
              "      <td>7.76</td>\n",
              "      <td>24.54</td>\n",
              "      <td>47.92</td>\n",
              "      <td>181.0</td>\n",
              "      <td>0.05263</td>\n",
              "      <td>0.04362</td>\n",
              "      <td>0.00000</td>\n",
              "      <td>0.00000</td>\n",
              "      <td>0.1587</td>\n",
              "      <td>...</td>\n",
              "      <td>9.456</td>\n",
              "      <td>30.37</td>\n",
              "      <td>59.16</td>\n",
              "      <td>268.6</td>\n",
              "      <td>0.08996</td>\n",
              "      <td>0.06444</td>\n",
              "      <td>0.0000</td>\n",
              "      <td>0.0000</td>\n",
              "      <td>0.2871</td>\n",
              "      <td>0.07039</td>\n",
              "    </tr>\n",
              "  </tbody>\n",
              "</table>\n",
              "<p>569 rows × 31 columns</p>\n",
              "</div>\n",
              "      <button class=\"colab-df-convert\" onclick=\"convertToInteractive('df-9cc30626-2603-4e17-9553-e46e39fb5e5e')\"\n",
              "              title=\"Convert this dataframe to an interactive table.\"\n",
              "              style=\"display:none;\">\n",
              "        \n",
              "  <svg xmlns=\"http://www.w3.org/2000/svg\" height=\"24px\"viewBox=\"0 0 24 24\"\n",
              "       width=\"24px\">\n",
              "    <path d=\"M0 0h24v24H0V0z\" fill=\"none\"/>\n",
              "    <path d=\"M18.56 5.44l.94 2.06.94-2.06 2.06-.94-2.06-.94-.94-2.06-.94 2.06-2.06.94zm-11 1L8.5 8.5l.94-2.06 2.06-.94-2.06-.94L8.5 2.5l-.94 2.06-2.06.94zm10 10l.94 2.06.94-2.06 2.06-.94-2.06-.94-.94-2.06-.94 2.06-2.06.94z\"/><path d=\"M17.41 7.96l-1.37-1.37c-.4-.4-.92-.59-1.43-.59-.52 0-1.04.2-1.43.59L10.3 9.45l-7.72 7.72c-.78.78-.78 2.05 0 2.83L4 21.41c.39.39.9.59 1.41.59.51 0 1.02-.2 1.41-.59l7.78-7.78 2.81-2.81c.8-.78.8-2.07 0-2.86zM5.41 20L4 18.59l7.72-7.72 1.47 1.35L5.41 20z\"/>\n",
              "  </svg>\n",
              "      </button>\n",
              "      \n",
              "  <style>\n",
              "    .colab-df-container {\n",
              "      display:flex;\n",
              "      flex-wrap:wrap;\n",
              "      gap: 12px;\n",
              "    }\n",
              "\n",
              "    .colab-df-convert {\n",
              "      background-color: #E8F0FE;\n",
              "      border: none;\n",
              "      border-radius: 50%;\n",
              "      cursor: pointer;\n",
              "      display: none;\n",
              "      fill: #1967D2;\n",
              "      height: 32px;\n",
              "      padding: 0 0 0 0;\n",
              "      width: 32px;\n",
              "    }\n",
              "\n",
              "    .colab-df-convert:hover {\n",
              "      background-color: #E2EBFA;\n",
              "      box-shadow: 0px 1px 2px rgba(60, 64, 67, 0.3), 0px 1px 3px 1px rgba(60, 64, 67, 0.15);\n",
              "      fill: #174EA6;\n",
              "    }\n",
              "\n",
              "    [theme=dark] .colab-df-convert {\n",
              "      background-color: #3B4455;\n",
              "      fill: #D2E3FC;\n",
              "    }\n",
              "\n",
              "    [theme=dark] .colab-df-convert:hover {\n",
              "      background-color: #434B5C;\n",
              "      box-shadow: 0px 1px 3px 1px rgba(0, 0, 0, 0.15);\n",
              "      filter: drop-shadow(0px 1px 2px rgba(0, 0, 0, 0.3));\n",
              "      fill: #FFFFFF;\n",
              "    }\n",
              "  </style>\n",
              "\n",
              "      <script>\n",
              "        const buttonEl =\n",
              "          document.querySelector('#df-9cc30626-2603-4e17-9553-e46e39fb5e5e button.colab-df-convert');\n",
              "        buttonEl.style.display =\n",
              "          google.colab.kernel.accessAllowed ? 'block' : 'none';\n",
              "\n",
              "        async function convertToInteractive(key) {\n",
              "          const element = document.querySelector('#df-9cc30626-2603-4e17-9553-e46e39fb5e5e');\n",
              "          const dataTable =\n",
              "            await google.colab.kernel.invokeFunction('convertToInteractive',\n",
              "                                                     [key], {});\n",
              "          if (!dataTable) return;\n",
              "\n",
              "          const docLinkHtml = 'Like what you see? Visit the ' +\n",
              "            '<a target=\"_blank\" href=https://colab.research.google.com/notebooks/data_table.ipynb>data table notebook</a>'\n",
              "            + ' to learn more about interactive tables.';\n",
              "          element.innerHTML = '';\n",
              "          dataTable['output_type'] = 'display_data';\n",
              "          await google.colab.output.renderOutput(dataTable, element);\n",
              "          const docLink = document.createElement('div');\n",
              "          docLink.innerHTML = docLinkHtml;\n",
              "          element.appendChild(docLink);\n",
              "        }\n",
              "      </script>\n",
              "    </div>\n",
              "  </div>\n",
              "  "
            ],
            "text/plain": [
              "    1      2      3       4       5        6        7        8        9   \\\n",
              "0    M  17.99  10.38  122.80  1001.0  0.11840  0.27760  0.30010  0.14710   \n",
              "1    M  20.57  17.77  132.90  1326.0  0.08474  0.07864  0.08690  0.07017   \n",
              "2    M  19.69  21.25  130.00  1203.0  0.10960  0.15990  0.19740  0.12790   \n",
              "3    M  11.42  20.38   77.58   386.1  0.14250  0.28390  0.24140  0.10520   \n",
              "4    M  20.29  14.34  135.10  1297.0  0.10030  0.13280  0.19800  0.10430   \n",
              "..  ..    ...    ...     ...     ...      ...      ...      ...      ...   \n",
              "564  M  21.56  22.39  142.00  1479.0  0.11100  0.11590  0.24390  0.13890   \n",
              "565  M  20.13  28.25  131.20  1261.0  0.09780  0.10340  0.14400  0.09791   \n",
              "566  M  16.60  28.08  108.30   858.1  0.08455  0.10230  0.09251  0.05302   \n",
              "567  M  20.60  29.33  140.10  1265.0  0.11780  0.27700  0.35140  0.15200   \n",
              "568  B   7.76  24.54   47.92   181.0  0.05263  0.04362  0.00000  0.00000   \n",
              "\n",
              "         10  ...      22     23      24      25       26       27      28  \\\n",
              "0    0.2419  ...  25.380  17.33  184.60  2019.0  0.16220  0.66560  0.7119   \n",
              "1    0.1812  ...  24.990  23.41  158.80  1956.0  0.12380  0.18660  0.2416   \n",
              "2    0.2069  ...  23.570  25.53  152.50  1709.0  0.14440  0.42450  0.4504   \n",
              "3    0.2597  ...  14.910  26.50   98.87   567.7  0.20980  0.86630  0.6869   \n",
              "4    0.1809  ...  22.540  16.67  152.20  1575.0  0.13740  0.20500  0.4000   \n",
              "..      ...  ...     ...    ...     ...     ...      ...      ...     ...   \n",
              "564  0.1726  ...  25.450  26.40  166.10  2027.0  0.14100  0.21130  0.4107   \n",
              "565  0.1752  ...  23.690  38.25  155.00  1731.0  0.11660  0.19220  0.3215   \n",
              "566  0.1590  ...  18.980  34.12  126.70  1124.0  0.11390  0.30940  0.3403   \n",
              "567  0.2397  ...  25.740  39.42  184.60  1821.0  0.16500  0.86810  0.9387   \n",
              "568  0.1587  ...   9.456  30.37   59.16   268.6  0.08996  0.06444  0.0000   \n",
              "\n",
              "         29      30       31  \n",
              "0    0.2654  0.4601  0.11890  \n",
              "1    0.1860  0.2750  0.08902  \n",
              "2    0.2430  0.3613  0.08758  \n",
              "3    0.2575  0.6638  0.17300  \n",
              "4    0.1625  0.2364  0.07678  \n",
              "..      ...     ...      ...  \n",
              "564  0.2216  0.2060  0.07115  \n",
              "565  0.1628  0.2572  0.06637  \n",
              "566  0.1418  0.2218  0.07820  \n",
              "567  0.2650  0.4087  0.12400  \n",
              "568  0.0000  0.2871  0.07039  \n",
              "\n",
              "[569 rows x 31 columns]"
            ]
          },
          "execution_count": 5,
          "metadata": {},
          "output_type": "execute_result"
        }
      ],
      "source": [
        "data.head()\n",
        "data.drop(axis=1,columns = 0)"
      ]
    },
    {
      "cell_type": "code",
      "execution_count": null,
      "metadata": {
        "colab": {
          "base_uri": "https://localhost:8080/"
        },
        "id": "i-o655UzFDZY",
        "outputId": "c93876f3-d469-42a9-c228-804b2962ab5f"
      },
      "outputs": [
        {
          "name": "stdout",
          "output_type": "stream",
          "text": [
            "X_train shape: (470, 30)\n"
          ]
        }
      ],
      "source": [
        "X = data.iloc[:, 2:].values\n",
        "y = data.iloc[:, 1].values\n",
        "\n",
        "# Splitting the data into training and testing sets\n",
        "X_train, X_test, y_train, y_test = train_test_split(X, y, test_size=0.173, random_state=42, stratify=y)\n",
        "\n",
        "# Printing the shapes of the resulting datasets\n",
        "print(\"X_train shape:\", X_train.shape)"
      ]
    },
    {
      "cell_type": "code",
      "execution_count": 41,
      "metadata": {
        "colab": {
          "base_uri": "https://localhost:8080/"
        },
        "id": "j3VH6-Ii_FJb",
        "outputId": "29012625-c1cc-4266-9f5e-db0563182e64"
      },
      "outputs": [
        {
          "name": "stdout",
          "output_type": "stream",
          "text": [
            "(array([ 37, 122, 206, 291, 376]), array([[1.        , 1.        , 0.89189189, 0.37837838, 0.89189189],\n",
            "       [0.36065574, 0.36885246, 1.        , 0.87704918, 1.        ],\n",
            "       [0.9368932 , 0.91747573, 0.83980583, 0.82038835, 0.94660194],\n",
            "       [0.94501718, 0.95876289, 0.93814433, 0.93127148, 0.9347079 ],\n",
            "       [0.94680851, 0.95478723, 0.93617021, 0.95478723, 0.95212766]]), array([[0.91489362, 0.92553191, 0.92553191, 0.37234043, 0.88297872],\n",
            "       [0.37234043, 0.37234043, 0.9787234 , 0.85106383, 0.91489362],\n",
            "       [0.88297872, 0.93617021, 0.85106383, 0.77659574, 0.88297872],\n",
            "       [0.94680851, 0.94680851, 0.95744681, 0.91489362, 0.86170213],\n",
            "       [0.95744681, 0.96808511, 0.96808511, 0.95744681, 0.88297872]]))\n"
          ]
        }
      ],
      "source": [
        "mlp = MLPClassifier(max_iter=2000)\n",
        "cross_val_mlp = learning_curve(mlp,X_train,y_train)\n",
        "print(cross_val_mlp)"
      ]
    },
    {
      "cell_type": "code",
      "execution_count": 42,
      "metadata": {
        "colab": {
          "base_uri": "https://localhost:8080/",
          "height": 279
        },
        "id": "1vtHStsvvcv1",
        "outputId": "cbb5b33e-008c-4ba0-ca6a-915dec62f61c"
      },
      "outputs": [
        {
          "data": {
            "image/png": "[encoded data removed]",
            "text/plain": [
              "<Figure size 432x288 with 1 Axes>"
            ]
          },
          "metadata": {
            "needs_background": "light"
          },
          "output_type": "display_data"
        }
      ],
      "source": [
        "train_sizes, train_scores, test_scores = cross_val_mlp\n",
        "\n",
        "# calculate the irreducible error as the average of the test scores\n",
        "irr_error = np.mean(test_scores[-1])\n",
        "\n",
        "# calculate the training error and validation error as the mean of the \n",
        "# corresponding scores across all cross-validation splits\n",
        "train_error = np.mean(train_scores, axis=1)\n",
        "val_error = np.mean(test_scores, axis=1)\n",
        "\n",
        "# plot the learning curves\n",
        "plt.plot(train_sizes, train_error, color=\"g\",\n",
        "         label=\"Training error\")\n",
        "plt.plot(train_sizes, val_error, color=\"b\",\n",
        "         label=\"Cross-validation error\")\n",
        "plt.axhline(y=irr_error, color='r', linestyle='--',\n",
        "            label='Irreducible error')\n",
        "plt.xlabel(\"Training Set Size\")\n",
        "plt.ylabel(\"Error\")\n",
        "plt.legend(loc=\"best\")\n",
        "plt.show()"
      ]
    },
    {
      "cell_type": "code",
      "execution_count": 44,
      "metadata": {
        "colab": {
          "base_uri": "https://localhost:8080/"
        },
        "id": "JcmBvNNpzRAn",
        "outputId": "498fd59e-abd8-4ce5-ce84-c55e705ea218"
      },
      "outputs": [
        {
          "name": "stdout",
          "output_type": "stream",
          "text": [
            "MLP Accuracy: 0.9393939393939394\n"
          ]
        }
      ],
      "source": [
        "best_fold_index = np.argmax(val_error)\n",
        "# Fit model on entire training set with best fold\n",
        "mlp.fit(X_train, y_train)\n",
        "y_pred = mlp.predict(X_test)\n",
        "accuracy = accuracy_score(y_test, y_pred)\n",
        "print(\"MLP Accuracy:\", accuracy)"
      ]
    },
    {
      "cell_type": "code",
      "execution_count": 14,
      "metadata": {
        "colab": {
          "base_uri": "https://localhost:8080/"
        },
        "id": "mnGFUM9wk9lM",
        "outputId": "0a51e398-6737-408a-e846-1c2e3870f8c6"
      },
      "outputs": [
        {
          "name": "stdout",
          "output_type": "stream",
          "text": [
            "(array([ 37, 122, 206, 291, 376]), array([[0.97297297, 0.94594595, 0.94594595, 0.94594595, 0.94594595],\n",
            "       [0.91803279, 0.93442623, 0.95901639, 0.95901639, 0.95901639],\n",
            "       [0.91262136, 0.91747573, 0.9223301 , 0.93203883, 0.93203883],\n",
            "       [0.90721649, 0.90378007, 0.91065292, 0.92439863, 0.93127148],\n",
            "       [0.91223404, 0.92021277, 0.91223404, 0.92553191, 0.92287234]]), array([[0.87234043, 0.90425532, 0.90425532, 0.87234043, 0.86170213],\n",
            "       [0.93617021, 0.92553191, 0.90425532, 0.89361702, 0.89361702],\n",
            "       [0.95744681, 0.92553191, 0.90425532, 0.89361702, 0.89361702],\n",
            "       [0.93617021, 0.92553191, 0.93617021, 0.89361702, 0.90425532],\n",
            "       [0.94680851, 0.92553191, 0.92553191, 0.89361702, 0.88297872]]))\n"
          ]
        }
      ],
      "source": [
        "svc = SVC(kernel='rbf', gamma='scale', class_weight='balanced', random_state=1)\n",
        "cross_val_svc = learning_curve(svc,X_train,y_train)\n",
        "print(cross_val_svc)"
      ]
    },
    {
      "cell_type": "code",
      "execution_count": 21,
      "metadata": {
        "colab": {
          "base_uri": "https://localhost:8080/",
          "height": 279
        },
        "id": "f8o6FaLQvpjA",
        "outputId": "47d61f7e-2533-49dd-bad0-176c21051249"
      },
      "outputs": [
        {
          "data": {
            "image/png": "[encoded data removed]",
            "text/plain": [
              "<Figure size 432x288 with 1 Axes>"
            ]
          },
          "metadata": {
            "needs_background": "light"
          },
          "output_type": "display_data"
        }
      ],
      "source": [
        "train_sizes, train_scores, test_scores = cross_val_svc\n",
        "\n",
        "# calculate the irreducible error as the average of the test scores\n",
        "irr_error = np.mean(test_scores[-1])\n",
        "\n",
        "# calculate the training error and validation error as the mean of the \n",
        "# corresponding scores across all cross-validation splits\n",
        "train_error = np.mean(train_scores, axis=1)\n",
        "val_error = np.mean(test_scores, axis=1)\n",
        "\n",
        "# plot the learning curves\n",
        "plt.plot(train_sizes, train_error, color=\"g\",\n",
        "         label=\"Training error\")\n",
        "plt.plot(train_sizes, val_error, color=\"b\",\n",
        "         label=\"Cross-validation error\")\n",
        "plt.axhline(y=irr_error, color='r', linestyle='--',\n",
        "            label='Irreducible error')\n",
        "plt.xlabel(\"Training Set Size\")\n",
        "plt.ylabel(\"Error\")\n",
        "plt.legend(loc=\"best\")\n",
        "plt.show()"
      ]
    },
    {
      "cell_type": "code",
      "execution_count": 20,
      "metadata": {
        "colab": {
          "base_uri": "https://localhost:8080/"
        },
        "id": "1u5N1-4i09Ih",
        "outputId": "db4b6982-2f0d-4ed2-c43e-8a4f0d6afe8e"
      },
      "outputs": [
        {
          "name": "stdout",
          "output_type": "stream",
          "text": [
            "SVC accuracy: 0.9090909090909091\n"
          ]
        }
      ],
      "source": [
        "best_fold_index = np.argmax(val_error)\n",
        "# Fit model on entire training set with best fold\n",
        "svc.fit(X_train, y_train)\n",
        "y_pred = svc.predict(X_test)\n",
        "accuracy = accuracy_score(y_test, y_pred)\n",
        "print(\"SVC accuracy:\", accuracy)"
      ]
    },
    {
      "cell_type": "markdown",
      "metadata": {
        "id": "KOQsqQsA0fBW"
      },
      "source": [
        "Introduction: \n",
        "In this report, I compare the performance of a Multi-Layer Perceptron (MLP) and a Support Vector Machine (SVM) using cross-validation. Both MLP and SVM are widely used machine learning algorithms for classification tasks. I use cross-validation to evaluate the performance of these algorithms on a given dataset.\n",
        "\n",
        "Dataset: \n",
        "I used the UCI Machine Learning Repository dataset for my experiments. This dataset has 569 instances and 32 features. The dataset is divided into 2 classes.\n",
        "\n",
        "Methodology: \n",
        "I use 5-fold cross-validation to evaluate the performance of MLP and SVM on the dataset. In 5-fold cross-validation, the dataset is divided into 5 equal parts. Four parts are used for training the model, and one part is used for testing the model. This process is repeated 5 times, and each time a different part is used for testing. The performance of the algorithm is then averaged over the 5 iterations. I train both MLP and SVM on the dataset using their default hyperparameters. I use the MLPClassifier and SVC classes from the scikit-learn library for MLP and SVM, respectively.\n",
        "\n",
        "Results: \n",
        "The average accuracy and standard deviation of MLP and SVM are shown in the cells above I believe SVMs are ususally better than MLPs, for high dimensional data, but in this case at least this dataset the MLP performed better\n",
        "\n",
        "Discussion:\n",
        "My results show that MLP performed better than SVM in this case on the given dataset. SVM is known to work well on high-dimensional datasets with a large number of features. MLP, on the other hand, can suffer from overfitting when the number of features is large. But in this case at least I saw that the MLP gave a better testing accuracy.\n",
        "\n",
        "Conclusion: \n",
        "In this report, I compared the performance of MLP and SVM using 5-fold cross-validation on a given dataset. My results show that the MLP performed better than the SVM on the dataset. The difference in accuracy between MLP and SVM is statistically not that significant. These results suggest that MLP may be a better choice than SVM for classification on this datasets."
      ]
    }
  ],
  "metadata": {
    "colab": {
      "provenance": []
    },
    "kernelspec": {
      "display_name": "Python 3",
      "name": "python3"
    },
    "language_info": {
      "name": "python"
    }
  },
  "nbformat": 4,
  "nbformat_minor": 0
}
